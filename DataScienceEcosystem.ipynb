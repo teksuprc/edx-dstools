{
  "nbformat": 4,
  "nbformat_minor": 0,
  "metadata": {
    "colab": {
      "provenance": []
    },
    "kernelspec": {
      "name": "python3",
      "display_name": "Python 3"
    },
    "language_info": {
      "name": "python"
    }
  },
  "cells": [
    {
      "cell_type": "markdown",
      "source": [
        "# Data Science Tools and Ecosystem"
      ],
      "metadata": {
        "id": "3hsywODAR1J7"
      }
    },
    {
      "cell_type": "markdown",
      "source": [
        "In this notebook, Data Science Tools and Ecosystem are summarized."
      ],
      "metadata": {
        "id": "d7uls6w3SWI6"
      }
    },
    {
      "cell_type": "markdown",
      "source": [
        "## Author\n",
        "Russell Chandler"
      ],
      "metadata": {
        "id": "_N1__dNnajoY"
      }
    },
    {
      "cell_type": "markdown",
      "source": [
        "**Objectives**:\n",
        "* List popular languages for Data Science\n",
        "* List popular tools for Data Science\n",
        "* List popular libraries for Data Science\n",
        "* Evaluate arithmetic expression\n",
        "* Convert minutes into hours"
      ],
      "metadata": {
        "id": "6oZMWQ2CZjzw"
      }
    },
    {
      "cell_type": "markdown",
      "source": [
        "Some of the popular languages that Data Scientists use are:\n",
        "1. R\n",
        "1. Python\n",
        "1. Javascript\n",
        "1. SQL"
      ],
      "metadata": {
        "id": "PYomDkTnS9rw"
      }
    },
    {
      "cell_type": "markdown",
      "source": [
        "Some of the commonly used libraries used by Data Scientists include:\n",
        "\n",
        "1. Pandas\n",
        "1. Numpy\n",
        "1. SciPy\n",
        "1. Matplotlib\n",
        "1. Keras\n",
        "1. SciKit-Learn\n",
        "1. TensorFlow\n",
        "1. PyTorch\n",
        "1. Apache Spark\n",
        "1. Vegas\n",
        "1. BigDL\n",
        "1. ggplot2\n"
      ],
      "metadata": {
        "id": "pH9XMxwuT2-5"
      }
    },
    {
      "cell_type": "markdown",
      "source": [
        "| Data Science Tools |\n",
        "|--------------------|\n",
        "| Jupyter Labs |\n",
        "| Google Colab |\n",
        "| RStudio |"
      ],
      "metadata": {
        "id": "WePuQKplVg5Y"
      }
    },
    {
      "cell_type": "markdown",
      "source": [
        "Below are a few examples of evaluating arithmetic expressions in Python"
      ],
      "metadata": {
        "id": "lqGcePCFXemR"
      }
    },
    {
      "cell_type": "code",
      "source": [
        "# This is a simple arithmetic expression to multiply then add integers\n",
        "(3*4)+5"
      ],
      "metadata": {
        "colab": {
          "base_uri": "https://localhost:8080/"
        },
        "id": "npM6wUadXurC",
        "outputId": "615e2c81-fb03-4e7c-c67f-5b5a40257bbb"
      },
      "execution_count": null,
      "outputs": [
        {
          "output_type": "execute_result",
          "data": {
            "text/plain": [
              "17"
            ]
          },
          "metadata": {},
          "execution_count": 3
        }
      ]
    },
    {
      "cell_type": "code",
      "execution_count": null,
      "metadata": {
        "colab": {
          "base_uri": "https://localhost:8080/"
        },
        "id": "sf-wUJwSQDtR",
        "outputId": "929da5f5-0274-4bd3-b0fc-83165b2799b7"
      },
      "outputs": [
        {
          "output_type": "stream",
          "name": "stdout",
          "text": [
            "3.3333333333333335\n"
          ]
        }
      ],
      "source": [
        "# This will convert 200 minutes into hours by dividing by 60\n",
        "minutes = 200\n",
        "MINS_IN_HOUR = 60\n",
        "hours = minutes / MINS_IN_HOUR\n",
        "print(hours)"
      ]
    },
    {
      "cell_type": "code",
      "source": [],
      "metadata": {
        "id": "PFLABj9_YkQb"
      },
      "execution_count": null,
      "outputs": []
    },
    {
      "cell_type": "markdown",
      "source": [],
      "metadata": {
        "id": "0NPNiO0aRp0D"
      }
    }
  ]
}